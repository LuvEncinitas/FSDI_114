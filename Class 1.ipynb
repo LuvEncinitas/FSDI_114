{
 "cells": [
  {
   "cell_type": "code",
   "execution_count": 2,
   "id": "7847a400",
   "metadata": {},
   "outputs": [
    {
     "name": "stdout",
     "output_type": "stream",
     "text": [
      "H\n",
      "e\n",
      "l\n",
      "l\n",
      "o\n",
      " \n",
      "W\n",
      "o\n",
      "r\n",
      "l\n",
      "d\n"
     ]
    }
   ],
   "source": [
    "for letter in \"Hello World\":\n",
    "    print(letter)\n"
   ]
  },
  {
   "cell_type": "markdown",
   "id": "7bbcfe4e",
   "metadata": {},
   "source": [
    "# Problem 1\n",
    "\n",
    "### given two strings (string_a and string_b) determine if these are anagrams of each\n",
    "your function, \"are_anagrams\" must recieve two strings and return True if these are anagrams of each other, False otherwise.\n",
    "\n",
    "_Criteria_:\n",
    "Two strings are anagram of each other if and only if:\n",
    "1. They are exactly the same length.\n",
    "2. They use the exact same characters, the same amount of time.\n",
    "\n",
    "Examples:\n",
    "```\n",
    "cars and scars\n",
    "heart and earth\n",
    "etc\n",
    "```\n"
   ]
  },
  {
   "cell_type": "code",
   "execution_count": null,
   "id": "d893f0e4",
   "metadata": {},
   "outputs": [],
   "source": [
    "def are_anagrams(string_a, string)"
   ]
  }
 ],
 "metadata": {
  "kernelspec": {
   "display_name": "Python 3 (ipykernel)",
   "language": "python",
   "name": "python3"
  },
  "language_info": {
   "codemirror_mode": {
    "name": "ipython",
    "version": 3
   },
   "file_extension": ".py",
   "mimetype": "text/x-python",
   "name": "python",
   "nbconvert_exporter": "python",
   "pygments_lexer": "ipython3",
   "version": "3.10.9"
  }
 },
 "nbformat": 4,
 "nbformat_minor": 5
}
